{
 "cells": [
  {
   "cell_type": "markdown",
   "id": "62c9325e-7d18-42d0-9746-69605bf5d177",
   "metadata": {},
   "source": [
    "BASIC PYTHON CODING"
   ]
  },
  {
   "cell_type": "code",
   "execution_count": 1,
   "id": "657741e0-bebf-44fa-8a60-a09e4a7200d7",
   "metadata": {
    "jp-MarkdownHeadingCollapsed": true
   },
   "outputs": [
    {
     "name": "stdin",
     "output_type": "stream",
     "text": [
      "Enter a value 79\n"
     ]
    },
    {
     "name": "stdout",
     "output_type": "stream",
     "text": [
      "79 is a prime number\n"
     ]
    }
   ],
   "source": [
    "#Write a Python program that checks whether a given number is prime or not. \n",
    "#A prime number is a natural number greater than 1 that has no positive divisors other than 1 and itself.\n",
    "\n",
    "#creatinf=g a function to idenify prime number\n",
    "def isprime(n):\n",
    "    if n<=1:  #number less than 1 and 1 is not prime\n",
    "        return False\n",
    "        \n",
    "#to check values from 2\n",
    "    for i in range(2,n):\n",
    "        if n % i ==0: #numbers divisible by any other number other than 1 is not prime\n",
    "            return False\n",
    "    return True\n",
    "            \n",
    "num = int(input(\"Enter a value\"))\n",
    "\n",
    "if isprime(num):\n",
    "          print(num,\"is a prime number\")\n",
    "else:\n",
    "          print(num,\"is not a prime number\")"
   ]
  },
  {
   "cell_type": "code",
   "execution_count": 3,
   "id": "7f44cda3-ef50-49af-9b39-b18a30dca321",
   "metadata": {},
   "outputs": [
    {
     "name": "stdin",
     "output_type": "stream",
     "text": [
      "Enter the product of 1 and 5 5\n"
     ]
    },
    {
     "name": "stdout",
     "output_type": "stream",
     "text": [
      "Correct!Good Job!\n"
     ]
    }
   ],
   "source": [
    "#Develop a Python program that generates two random numbers and asks the user to enter the product of these numbers. \n",
    "#The program should then check if the user's answer is correct and display an appropriate message.\n",
    "\n",
    "\n",
    "import random\n",
    "\n",
    "#to call any random variables\n",
    "n1 = random.randint(1,10)\n",
    "n2 = random.randint(1,10)\n",
    "\n",
    "product = n1*n2\n",
    "\n",
    "#to recieve the user's answer\n",
    "Answer = int(input(f\"Enter the product of {n1} and {n2}\"))\n",
    "\n",
    "if Answer == product:    #for correct input\n",
    "    print(\"Correct!Good Job!\")\n",
    "else:                    #for wrong input\n",
    "    print(\"Please try again!\")"
   ]
  },
  {
   "cell_type": "code",
   "execution_count": 5,
   "id": "f99ad976-0dee-4a66-8060-0f77a3d4e1e5",
   "metadata": {},
   "outputs": [
    {
     "name": "stdout",
     "output_type": "stream",
     "text": [
      "Squares of odd numbers:\n",
      "10201\n",
      "10609\n",
      "11025\n",
      "11449\n",
      "11881\n",
      "12321\n",
      "12769\n",
      "13225\n",
      "13689\n",
      "14161\n",
      "14641\n",
      "15129\n",
      "15625\n",
      "16129\n",
      "16641\n",
      "17161\n",
      "17689\n",
      "18225\n",
      "18769\n",
      "19321\n",
      "19881\n",
      "20449\n",
      "21025\n",
      "21609\n",
      "22201\n",
      "22801\n",
      "23409\n",
      "24025\n",
      "24649\n",
      "25281\n",
      "25921\n",
      "26569\n",
      "27225\n",
      "27889\n",
      "28561\n",
      "29241\n",
      "29929\n",
      "30625\n",
      "31329\n",
      "32041\n",
      "32761\n",
      "33489\n",
      "34225\n",
      "34969\n",
      "35721\n",
      "36481\n",
      "37249\n",
      "38025\n",
      "38809\n",
      "39601\n"
     ]
    }
   ],
   "source": [
    "#Create a Python script that prints the squares of all even or odd numbers within the range of 100 to 200. \n",
    "#Choose either even or odd numbers and document your choice in the code.\n",
    "\n",
    "#This scrip prints the squares of all odd numbers in the range of 100 and 200\n",
    "print(\"Squares of odd numbers:\")\n",
    "\n",
    "for i in range (100,201): #to call any numbers from range 100 and 200\n",
    "    \n",
    "    if i % 2 != 0: #odd numbers when divided by 2 will not give a remainder of 2\n",
    "        print(i**2)\n"
   ]
  },
  {
   "cell_type": "code",
   "execution_count": 7,
   "id": "2a9b9e89-93e5-479d-a8f8-d1ff2e0fc0ef",
   "metadata": {},
   "outputs": [
    {
     "name": "stdin",
     "output_type": "stream",
     "text": [
      "Text_Input:  This is a sample text. This text will be used to demonstrate the word counter.\n"
     ]
    },
    {
     "name": "stdout",
     "output_type": "stream",
     "text": [
      "'this': 2\n",
      "'is': 1\n",
      "'a': 1\n",
      "'sample': 1\n",
      "'text': 2\n",
      "'will': 1\n",
      "'be': 1\n",
      "'used': 1\n",
      "'to': 1\n",
      "'demonstrate': 1\n",
      "'the': 1\n",
      "'word': 1\n",
      "'counter': 1\n"
     ]
    }
   ],
   "source": [
    "#Write a program to count the number of words in a given text.\n",
    "\n",
    "def wordcount(x):\n",
    "    \n",
    "    #convert text to lower and replce puntuation\n",
    "    x = text.lower().replace('.',\"\").replace(',',\"\").replace('!',\"\").replace('?',\"\")\n",
    "    \n",
    "    #to split the text using whitespace\n",
    "    words = x.split()\n",
    "\n",
    "    # Define a dictionary to store the words\n",
    "    word_dict = {}\n",
    "\n",
    "    # For counting each word\n",
    "    for i in words:\n",
    "\n",
    "        # If the word is in the dictionary, then increment the count\n",
    "        if i in word_dict:\n",
    "            word_dict[i] += 1\n",
    "        # Otherwise, insert the word into the dictionary with a count of 1\n",
    "        else:\n",
    "            word_dict[i] = 1\n",
    "            \n",
    "    # Return the dictionary\n",
    "    return word_dict\n",
    "\n",
    "# Accept input from the user\n",
    "text = input(\"Text_Input: \")\n",
    "word_dict = wordcount(text)\n",
    "\n",
    "# Print each word and its count\n",
    "for i, count in word_dict.items():\n",
    "    print(f\"'{i}': {count}\")"
   ]
  },
  {
   "cell_type": "code",
   "execution_count": 9,
   "id": "c363978a-b6bc-4218-ac75-2275897914de",
   "metadata": {},
   "outputs": [
    {
     "name": "stdin",
     "output_type": "stream",
     "text": [
      "Enter any text:  racecar\n"
     ]
    },
    {
     "name": "stdout",
     "output_type": "stream",
     "text": [
      "TRUE\n"
     ]
    }
   ],
   "source": [
    "#Write a Python function called is_palindrome that takes a string as input and returns True if the string is a palindrome, and False otherwise\n",
    "\n",
    "#create a function to idenify a palindrome\n",
    "def palindrome(x):\n",
    "\n",
    "    x = text.lower().replace('.',\"\").replace(',',\"\").replace('!',\"\").replace('?',\"\")\n",
    "\n",
    "    #to find the length of x\n",
    "    j = len(x)\n",
    "    \n",
    "    if x[0] == x[j-1]: #to compare the first and last letters\n",
    "        return True\n",
    "\n",
    "text = input(\"Enter any text: \")\n",
    "\n",
    "if palindrome(text):\n",
    "\n",
    "    #when the condition becomes true\n",
    "    print(\"TRUE\")\n",
    "\n",
    "\n",
    "else:\n",
    "    #when the condition is false\n",
    "    print(\"FALSE\")"
   ]
  },
  {
   "cell_type": "code",
   "execution_count": null,
   "id": "5ce2b4d3-3f80-48d3-99a7-935dfccadcec",
   "metadata": {},
   "outputs": [],
   "source": []
  }
 ],
 "metadata": {
  "kernelspec": {
   "display_name": "Python 3 (ipykernel)",
   "language": "python",
   "name": "python3"
  },
  "language_info": {
   "codemirror_mode": {
    "name": "ipython",
    "version": 3
   },
   "file_extension": ".py",
   "mimetype": "text/x-python",
   "name": "python",
   "nbconvert_exporter": "python",
   "pygments_lexer": "ipython3",
   "version": "3.11.7"
  }
 },
 "nbformat": 4,
 "nbformat_minor": 5
}
